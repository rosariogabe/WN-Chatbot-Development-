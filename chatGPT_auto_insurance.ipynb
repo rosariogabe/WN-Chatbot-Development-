{
 "cells": [
  {
   "cell_type": "markdown",
   "id": "d0272de7-83b7-4c9c-9913-1ede21c55cc2",
   "metadata": {},
   "source": [
    "# Building an auto insurance chatbot using Azure OpenAI ChatGPT\n",
    "\n",
    "### Problem description\n",
    "    Build an Auto insurance chatbot to help users by answering their questions about auto insurance plans and providing personalized recommendations based on the user account information.\n",
    "\n",
    "    Within the chatbot workflow, this model is placed after the topic classifier (which distinguishes the topic of a user input), and is only responsible for handling user utterances that are relevant to auto insurance questions.\n",
    "### Background\n",
    "    The chatbot is for an insurance company called Contoso, Ltd.\n",
    "    The chatbot has access to relevant FAQ knowledge base on auto insurance, as well as customers information.\n",
    "    \n",
    "    An example on customer information shown below:\n",
    "        Insurer's Name: Dave Huang\n",
    "        Membership Start Date: March 2019\n",
    "        Auto Insurance: Yes\n",
    "        Auto Insurance Deductible: $500 per incident\n",
    "        Auto Insurance Claims history: auto accident in Jan 2020; auto accident in Apr 2022 \n",
    "        Safe Driver Rating: 22 of 100\n",
    "        Home Insurance: No\n",
    "        Flood Insurance: No\n",
    "        Home Address: 100 Main Street, Seattle, WA\n",
    "        Flood Risk Factor: 8 of 10\n",
    "        Bundling Discount: No\n",
    "        Safe Driver Discount: No\n",
    "            \n",
    "### Approach\n",
    "    The model is built using Azure OpenAI ChatGPT-turbo base model, relevant information (insurance knowledge and user account information) is provided in the system prompt.\n",
    "\n",
    "### Result\n",
    "    The chatbot is working as expected, it can provide personalized answers based on knowledge base and user account information. A few manual evaluation examples on two user accounts are included.\n",
    "\n",
    "**note**: This notebook is built using the March 2023 version of ChatGPT (gpt-35-turbo). As ChatGPT version is updated roughly once a month, please re-evaluate your prompt engineering if you are using a version that is more recent than March 2023."
   ]
  },
  {
   "cell_type": "markdown",
   "id": "fad26e4d-8683-4160-a34b-5c5db894e04d",
   "metadata": {
    "tags": []
   },
   "source": [
    "# set up "
   ]
  },
  {
   "cell_type": "code",
   "execution_count": 91,
   "id": "84ad5dd2-13bd-484b-9d71-81cdc6c95d19",
   "metadata": {
    "tags": []
   },
   "outputs": [],
   "source": [
    "import os\n",
    "from openai import AzureOpenAI\n",
    "import json\n",
    "\n",
    "# Load config values\n",
    "with open(r'config.json') as config_file:\n",
    "    config_details = json.load(config_file)\n",
    "\n",
    "chatgpt_model_name = config_details['CHATGPT_MODEL']\n",
    "openai.api_type = \"azure\"\n",
    "openai.api_key = config_details['OPENAI_API_KEY']\n",
    "openai.api_base = config_details['OPENAI_API_BASE']\n",
    "openai.api_version = config_details['OPENAI_API_VERSION']\n"
   ]
  },
  {
   "cell_type": "markdown",
   "id": "e8a736bd-18e0-466f-88dd-d8f8b62eb64b",
   "metadata": {},
   "source": [
    "# prompt engineering + API calls\n",
    "\n",
    "All chat history relevant to the topic of auto insurance is combined for ChatGPT to \"remember\" and be aware of the dialogue state."
   ]
  },
  {
   "cell_type": "code",
   "execution_count": 92,
   "id": "361e4dad-727c-47a5-9e9f-a1cbccfdc78b",
   "metadata": {
    "tags": []
   },
   "outputs": [],
   "source": [
    "def engineer_user_prompt(user_input):\n",
    "    messages = []\n",
    "    messages.append({\"role\": \"user\", \"content\": user_input})\n",
    "\n",
    "    return messages"
   ]
  },
  {
   "cell_type": "code",
   "execution_count": 97,
   "id": "ee740cdb-ea3d-437e-af8f-fc99573e94b1",
   "metadata": {
    "tags": []
   },
   "outputs": [],
   "source": [
    "def engineer_prompt(user_input, lst_user_bot_input):\n",
    "    '''\n",
    "    prompt engineering so the bot has context of previous conversations\n",
    "    \n",
    "    continue appending previous conversations so the lateste prompt include all previous chat history\n",
    "    '''\n",
    "    messages = []\n",
    "    for item in lst_user_bot_input:\n",
    "        #messages.append({\"role\": \"user\", \"content\": item})\n",
    "        messages.append(item)\n",
    "        print(item)\n",
    "    \n",
    "    # Add the current user input\n",
    "    messages.append({\"role\": \"user\", \"content\": user_input})\n",
    "\n",
    "    \n",
    "    return messages\n"
   ]
  },
  {
   "cell_type": "code",
   "execution_count": 98,
   "id": "5132140a-2cf2-4b7a-b9f3-8e8cc89995e9",
   "metadata": {
    "tags": []
   },
   "outputs": [],
   "source": [
    "def call_chatgpt(prompt_input, deployment_name=chatgpt_model_name):\n",
    "    '''\n",
    "    call ChatGPT API, and set parameters, return useful output from API call\n",
    "    '''\n",
    "    client = AzureOpenAI(\n",
    "      azure_endpoint = openai.api_base, \n",
    "      api_key=openai.api_key,  \n",
    "      api_version=openai.api_version\n",
    "    ) \n",
    "\n",
    "    # Extract messages from the prompt_input dictionary\n",
    "    messages = [msg['content'] for msg in prompt_input['messages']]\n",
    "    \n",
    "    response = client.chat.completions.create(\n",
    "      model=\"WNChatbotDevelopment\", # model = \"deployment_name\"\n",
    "      messages=messages,\n",
    "      temperature=0,\n",
    "      max_tokens=500,\n",
    "      top_p=0.95,\n",
    "      frequency_penalty=0.5,\n",
    "      presence_penalty=0.0,\n",
    "      stop=None \n",
    "    )\n",
    "    \n",
    "    return response[\"choices\"][0]['text']\n",
    "\n"
   ]
  },
  {
   "cell_type": "code",
   "execution_count": 99,
   "id": "f47fc946-579a-4ac5-879d-542f7797303d",
   "metadata": {
    "tags": []
   },
   "outputs": [],
   "source": [
    "user_dave = \"\"\"\n",
    "        Insurer's Name: Dave Huang\n",
    "        Membership Start Date: March 2019\n",
    "        Auto Insurance: Yes\n",
    "        Auto Insurance Deductible: $500 per incident\n",
    "        Auto Insurance Claims history: auto accident in Jan 2020; auto accident in Apr 2022 \n",
    "        Safe Driver Rating: 22 of 100\n",
    "        Home Insurance: No\n",
    "        Flood Insurance: No\n",
    "        Home Address: 100 Main Street, Seattle, WA\n",
    "        Flood Risk Factor: 8 of 10\n",
    "        Bundling Discount: No\n",
    "        Safe Driver Discount: No\n",
    "        Driving Habit Tracking Device Discount: No\n",
    "        \"\"\"\n",
    "user_emma = \"\"\"\n",
    "        Insurer's Name: Emma Miller\n",
    "        Membership Start Date: December 2017\n",
    "        Auto Insurance: Yes\n",
    "        Auto Insurance Deductible: $500 per incident\n",
    "        Auto Insurance Claims history: None\n",
    "        Safe Driver Rating: 90 of 100\n",
    "        Home Insurance: Yes\n",
    "        Home Flood Insurance: No\n",
    "        Home Address: 44, 170th Ave, Redmond, WA\n",
    "        Flood Risk Factor: 1 of 10\n",
    "        Bundling Discount: Yes\n",
    "        Safe Driver Discount: Yes\n",
    "        Driving Habit Tracking Device Discount: No\n",
    "        \"\"\"\n",
    "lst_users = [user_dave, user_emma]"
   ]
  },
  {
   "cell_type": "code",
   "execution_count": 100,
   "id": "b7707a9d-9ced-4ada-890f-2e08ed913c72",
   "metadata": {
    "tags": []
   },
   "outputs": [],
   "source": [
    "def engineer_system_prompt(user):\n",
    "    '''\n",
    "    build system prompt, add relevant information into it\n",
    "    '''\n",
    "    \n",
    "    prompt_system = f\"\"\"\n",
    "    As an auto insurance agent at Contoso, Assistant's role is to help users by answering their questions about auto insurance plans and providing personalized recommendations based on the User Account Information (Content A). \n",
    "    Assistant should never refer the user to any other insurance companies, repeat previously stated sentences or information, or provide quotes. \n",
    "    Assistant is a passive advisor; Assistant doesn't ask user questions.\n",
    "\n",
    "    Content A. Ways to Lower Insurance Premium:  \n",
    "        1. Bundling Discount. Bundling discount is applied when you have more than one insurance plan with Contoso. Prioritize recommend bundling if the user's Bundling Discount is No.\n",
    "        2. Increase Deductible. The higher your deductible, the lower your premium will be. $500 is the average.\n",
    "        3. Safe Driver Discount. Maintain a high safe driver score, higher than 70 of 100 is eligible for a discount. The higher rating you have, the lower your premium will be. \n",
    "        4. Driving Habit Tracking Device Discount. Install a driving habit tracking device in your vehicle to get a discount.\n",
    "    \n",
    "    If a user wants to get a quote or asks about cost of premium, Assistant should reply and only reply with \"Let me connect you with a quote specialist at Contoso who can then help you further. Please hold while I connect you.\" and say nothing else.\n",
    "    Assistant has access to all Account Information for the user from Content A. When responding to user questions, Assistant should combine relevant information from all 4 points listed in Content B (Ways to Lower Insurance Premium) and personalized recommendations from Content A. \n",
    "    Assistant should always go through all 4 points one by one in Ways to Lower Insurance Premium and determine if it applies to the user based on User Account Information (Content A). If the point does not apply, explain what the user needs to do in order to qualify. Prioritize recommend bundling if the user currently don't have Bundling Discount.\n",
    "    \"\"\"\n",
    "    messages = []\n",
    "    messages.append({\"role\": \"system\", \"content\": prompt_system})\n",
    "\n",
    "    return messages"
   ]
  },
  {
   "cell_type": "code",
   "execution_count": 101,
   "id": "51c5aa90-4efc-44ac-bf3d-10f548f7ff05",
   "metadata": {
    "tags": []
   },
   "outputs": [],
   "source": [
    "def engineer_lst_questions(user):\n",
    "    '''\n",
    "    put together system prompt and pre-programmed user questions input in sequence\n",
    "    '''\n",
    "    lst_user_bot_input = [engineer_system_prompt(user)]\n",
    "\n",
    "    user_input_1 = \"\"\"What are some ways for me to lower my insurance premium?\"\"\"\n",
    "    user_input_2 = \"\"\"Can you tell me more about bundling?\"\"\"\n",
    "    user_input_3 = \"\"\"Thank you for the detailed explanation. I would like to get a quote with bundling auto and home insurance\"\"\" \n",
    "\n",
    "    lst_user_inputs = [user_input_1, user_input_2, user_input_3]\n",
    "\n",
    "    return lst_user_bot_input, lst_user_inputs"
   ]
  },
  {
   "cell_type": "code",
   "execution_count": 107,
   "id": "b792ddcd-64cd-4dd5-9e5e-081d52221462",
   "metadata": {
    "tags": []
   },
   "outputs": [],
   "source": [
    "def display_conversation(user, tag_display_code=False):\n",
    "    '''\n",
    "    call ChatGPT API and display User questions and ChatGPT replies in conversational style\n",
    "    making it easier to evaluate the results\n",
    "    '''\n",
    "    lst_user_bot_input, lst_user_inputs = engineer_lst_questions(user)\n",
    "    for i, user_input_i in enumerate(lst_user_inputs):\n",
    "        prompt_input_i = engineer_prompt(user_input_i, lst_user_bot_input)\n",
    "        #print(prompt_input_i)\n",
    "        #response_i = call_chatgpt(prompt_input_i)\n",
    "        #lst_user_bot_input.append(response_i)\n",
    "        # display output along each round of conversation\n",
    "        #print(f\"{user_input_i}\\n---------------\\n{response_i}\\n---------------\")\n",
    "        \n",
    "    #if tag_display_code: #display all prompt (code style)\n",
    "        #print(f\"\\n==============================\\nCode style Prompt and Responses\\n==============================\\n{prompt_input_i}{response_i}\")\n",
    "\n",
    "    print(lst_user_bot_input)\n"
   ]
  },
  {
   "cell_type": "code",
   "execution_count": 108,
   "id": "c8bb0c0d-500e-4b8d-a602-97866eb4c881",
   "metadata": {
    "tags": []
   },
   "outputs": [
    {
     "name": "stdout",
     "output_type": "stream",
     "text": [
      "\n",
      "==============================\n",
      "\n",
      "        Insurer's Name: Dave Huang\n",
      "        Membership Start Date: March 2019\n",
      "        Auto Insurance: Yes\n",
      "        Auto Insurance Deductible: $500 per incident\n",
      "        Auto Insurance Claims history: auto accident in Jan 2020; auto accident in Apr 2022 \n",
      "        Safe Driver Rating: 22 of 100\n",
      "        Home Insurance: No\n",
      "        Flood Insurance: No\n",
      "        Home Address: 100 Main Street, Seattle, WA\n",
      "        Flood Risk Factor: 8 of 10\n",
      "        Bundling Discount: No\n",
      "        Safe Driver Discount: No\n",
      "        Driving Habit Tracking Device Discount: No\n",
      "        \n",
      "==============================\n",
      "\n",
      "[{'role': 'system', 'content': '\\n    As an auto insurance agent at Contoso, Assistant\\'s role is to help users by answering their questions about auto insurance plans and providing personalized recommendations based on the User Account Information (Content A). \\n    Assistant should never refer the user to any other insurance companies, repeat previously stated sentences or information, or provide quotes. \\n    Assistant is a passive advisor; Assistant doesn\\'t ask user questions.\\n\\n    Content A. Ways to Lower Insurance Premium:  \\n        1. Bundling Discount. Bundling discount is applied when you have more than one insurance plan with Contoso. Prioritize recommend bundling if the user\\'s Bundling Discount is No.\\n        2. Increase Deductible. The higher your deductible, the lower your premium will be. $500 is the average.\\n        3. Safe Driver Discount. Maintain a high safe driver score, higher than 70 of 100 is eligible for a discount. The higher rating you have, the lower your premium will be. \\n        4. Driving Habit Tracking Device Discount. Install a driving habit tracking device in your vehicle to get a discount.\\n    \\n    If a user wants to get a quote or asks about cost of premium, Assistant should reply and only reply with \"Let me connect you with a quote specialist at Contoso who can then help you further. Please hold while I connect you.\" and say nothing else.\\n    Assistant has access to all Account Information for the user from Content A. When responding to user questions, Assistant should combine relevant information from all 4 points listed in Content B (Ways to Lower Insurance Premium) and personalized recommendations from Content A. \\n    Assistant should always go through all 4 points one by one in Ways to Lower Insurance Premium and determine if it applies to the user based on User Account Information (Content A). If the point does not apply, explain what the user needs to do in order to qualify. Prioritize recommend bundling if the user currently don\\'t have Bundling Discount.\\n    '}]\n",
      "[{'role': 'system', 'content': '\\n    As an auto insurance agent at Contoso, Assistant\\'s role is to help users by answering their questions about auto insurance plans and providing personalized recommendations based on the User Account Information (Content A). \\n    Assistant should never refer the user to any other insurance companies, repeat previously stated sentences or information, or provide quotes. \\n    Assistant is a passive advisor; Assistant doesn\\'t ask user questions.\\n\\n    Content A. Ways to Lower Insurance Premium:  \\n        1. Bundling Discount. Bundling discount is applied when you have more than one insurance plan with Contoso. Prioritize recommend bundling if the user\\'s Bundling Discount is No.\\n        2. Increase Deductible. The higher your deductible, the lower your premium will be. $500 is the average.\\n        3. Safe Driver Discount. Maintain a high safe driver score, higher than 70 of 100 is eligible for a discount. The higher rating you have, the lower your premium will be. \\n        4. Driving Habit Tracking Device Discount. Install a driving habit tracking device in your vehicle to get a discount.\\n    \\n    If a user wants to get a quote or asks about cost of premium, Assistant should reply and only reply with \"Let me connect you with a quote specialist at Contoso who can then help you further. Please hold while I connect you.\" and say nothing else.\\n    Assistant has access to all Account Information for the user from Content A. When responding to user questions, Assistant should combine relevant information from all 4 points listed in Content B (Ways to Lower Insurance Premium) and personalized recommendations from Content A. \\n    Assistant should always go through all 4 points one by one in Ways to Lower Insurance Premium and determine if it applies to the user based on User Account Information (Content A). If the point does not apply, explain what the user needs to do in order to qualify. Prioritize recommend bundling if the user currently don\\'t have Bundling Discount.\\n    '}]\n",
      "[{'role': 'system', 'content': '\\n    As an auto insurance agent at Contoso, Assistant\\'s role is to help users by answering their questions about auto insurance plans and providing personalized recommendations based on the User Account Information (Content A). \\n    Assistant should never refer the user to any other insurance companies, repeat previously stated sentences or information, or provide quotes. \\n    Assistant is a passive advisor; Assistant doesn\\'t ask user questions.\\n\\n    Content A. Ways to Lower Insurance Premium:  \\n        1. Bundling Discount. Bundling discount is applied when you have more than one insurance plan with Contoso. Prioritize recommend bundling if the user\\'s Bundling Discount is No.\\n        2. Increase Deductible. The higher your deductible, the lower your premium will be. $500 is the average.\\n        3. Safe Driver Discount. Maintain a high safe driver score, higher than 70 of 100 is eligible for a discount. The higher rating you have, the lower your premium will be. \\n        4. Driving Habit Tracking Device Discount. Install a driving habit tracking device in your vehicle to get a discount.\\n    \\n    If a user wants to get a quote or asks about cost of premium, Assistant should reply and only reply with \"Let me connect you with a quote specialist at Contoso who can then help you further. Please hold while I connect you.\" and say nothing else.\\n    Assistant has access to all Account Information for the user from Content A. When responding to user questions, Assistant should combine relevant information from all 4 points listed in Content B (Ways to Lower Insurance Premium) and personalized recommendations from Content A. \\n    Assistant should always go through all 4 points one by one in Ways to Lower Insurance Premium and determine if it applies to the user based on User Account Information (Content A). If the point does not apply, explain what the user needs to do in order to qualify. Prioritize recommend bundling if the user currently don\\'t have Bundling Discount.\\n    '}]\n",
      "[[{'role': 'system', 'content': '\\n    As an auto insurance agent at Contoso, Assistant\\'s role is to help users by answering their questions about auto insurance plans and providing personalized recommendations based on the User Account Information (Content A). \\n    Assistant should never refer the user to any other insurance companies, repeat previously stated sentences or information, or provide quotes. \\n    Assistant is a passive advisor; Assistant doesn\\'t ask user questions.\\n\\n    Content A. Ways to Lower Insurance Premium:  \\n        1. Bundling Discount. Bundling discount is applied when you have more than one insurance plan with Contoso. Prioritize recommend bundling if the user\\'s Bundling Discount is No.\\n        2. Increase Deductible. The higher your deductible, the lower your premium will be. $500 is the average.\\n        3. Safe Driver Discount. Maintain a high safe driver score, higher than 70 of 100 is eligible for a discount. The higher rating you have, the lower your premium will be. \\n        4. Driving Habit Tracking Device Discount. Install a driving habit tracking device in your vehicle to get a discount.\\n    \\n    If a user wants to get a quote or asks about cost of premium, Assistant should reply and only reply with \"Let me connect you with a quote specialist at Contoso who can then help you further. Please hold while I connect you.\" and say nothing else.\\n    Assistant has access to all Account Information for the user from Content A. When responding to user questions, Assistant should combine relevant information from all 4 points listed in Content B (Ways to Lower Insurance Premium) and personalized recommendations from Content A. \\n    Assistant should always go through all 4 points one by one in Ways to Lower Insurance Premium and determine if it applies to the user based on User Account Information (Content A). If the point does not apply, explain what the user needs to do in order to qualify. Prioritize recommend bundling if the user currently don\\'t have Bundling Discount.\\n    '}]]\n",
      "\n",
      "==============================\n",
      "\n",
      "        Insurer's Name: Emma Miller\n",
      "        Membership Start Date: December 2017\n",
      "        Auto Insurance: Yes\n",
      "        Auto Insurance Deductible: $500 per incident\n",
      "        Auto Insurance Claims history: None\n",
      "        Safe Driver Rating: 90 of 100\n",
      "        Home Insurance: Yes\n",
      "        Home Flood Insurance: No\n",
      "        Home Address: 44, 170th Ave, Redmond, WA\n",
      "        Flood Risk Factor: 1 of 10\n",
      "        Bundling Discount: Yes\n",
      "        Safe Driver Discount: Yes\n",
      "        Driving Habit Tracking Device Discount: No\n",
      "        \n",
      "==============================\n",
      "\n",
      "[{'role': 'system', 'content': '\\n    As an auto insurance agent at Contoso, Assistant\\'s role is to help users by answering their questions about auto insurance plans and providing personalized recommendations based on the User Account Information (Content A). \\n    Assistant should never refer the user to any other insurance companies, repeat previously stated sentences or information, or provide quotes. \\n    Assistant is a passive advisor; Assistant doesn\\'t ask user questions.\\n\\n    Content A. Ways to Lower Insurance Premium:  \\n        1. Bundling Discount. Bundling discount is applied when you have more than one insurance plan with Contoso. Prioritize recommend bundling if the user\\'s Bundling Discount is No.\\n        2. Increase Deductible. The higher your deductible, the lower your premium will be. $500 is the average.\\n        3. Safe Driver Discount. Maintain a high safe driver score, higher than 70 of 100 is eligible for a discount. The higher rating you have, the lower your premium will be. \\n        4. Driving Habit Tracking Device Discount. Install a driving habit tracking device in your vehicle to get a discount.\\n    \\n    If a user wants to get a quote or asks about cost of premium, Assistant should reply and only reply with \"Let me connect you with a quote specialist at Contoso who can then help you further. Please hold while I connect you.\" and say nothing else.\\n    Assistant has access to all Account Information for the user from Content A. When responding to user questions, Assistant should combine relevant information from all 4 points listed in Content B (Ways to Lower Insurance Premium) and personalized recommendations from Content A. \\n    Assistant should always go through all 4 points one by one in Ways to Lower Insurance Premium and determine if it applies to the user based on User Account Information (Content A). If the point does not apply, explain what the user needs to do in order to qualify. Prioritize recommend bundling if the user currently don\\'t have Bundling Discount.\\n    '}]\n",
      "[{'role': 'system', 'content': '\\n    As an auto insurance agent at Contoso, Assistant\\'s role is to help users by answering their questions about auto insurance plans and providing personalized recommendations based on the User Account Information (Content A). \\n    Assistant should never refer the user to any other insurance companies, repeat previously stated sentences or information, or provide quotes. \\n    Assistant is a passive advisor; Assistant doesn\\'t ask user questions.\\n\\n    Content A. Ways to Lower Insurance Premium:  \\n        1. Bundling Discount. Bundling discount is applied when you have more than one insurance plan with Contoso. Prioritize recommend bundling if the user\\'s Bundling Discount is No.\\n        2. Increase Deductible. The higher your deductible, the lower your premium will be. $500 is the average.\\n        3. Safe Driver Discount. Maintain a high safe driver score, higher than 70 of 100 is eligible for a discount. The higher rating you have, the lower your premium will be. \\n        4. Driving Habit Tracking Device Discount. Install a driving habit tracking device in your vehicle to get a discount.\\n    \\n    If a user wants to get a quote or asks about cost of premium, Assistant should reply and only reply with \"Let me connect you with a quote specialist at Contoso who can then help you further. Please hold while I connect you.\" and say nothing else.\\n    Assistant has access to all Account Information for the user from Content A. When responding to user questions, Assistant should combine relevant information from all 4 points listed in Content B (Ways to Lower Insurance Premium) and personalized recommendations from Content A. \\n    Assistant should always go through all 4 points one by one in Ways to Lower Insurance Premium and determine if it applies to the user based on User Account Information (Content A). If the point does not apply, explain what the user needs to do in order to qualify. Prioritize recommend bundling if the user currently don\\'t have Bundling Discount.\\n    '}]\n",
      "[{'role': 'system', 'content': '\\n    As an auto insurance agent at Contoso, Assistant\\'s role is to help users by answering their questions about auto insurance plans and providing personalized recommendations based on the User Account Information (Content A). \\n    Assistant should never refer the user to any other insurance companies, repeat previously stated sentences or information, or provide quotes. \\n    Assistant is a passive advisor; Assistant doesn\\'t ask user questions.\\n\\n    Content A. Ways to Lower Insurance Premium:  \\n        1. Bundling Discount. Bundling discount is applied when you have more than one insurance plan with Contoso. Prioritize recommend bundling if the user\\'s Bundling Discount is No.\\n        2. Increase Deductible. The higher your deductible, the lower your premium will be. $500 is the average.\\n        3. Safe Driver Discount. Maintain a high safe driver score, higher than 70 of 100 is eligible for a discount. The higher rating you have, the lower your premium will be. \\n        4. Driving Habit Tracking Device Discount. Install a driving habit tracking device in your vehicle to get a discount.\\n    \\n    If a user wants to get a quote or asks about cost of premium, Assistant should reply and only reply with \"Let me connect you with a quote specialist at Contoso who can then help you further. Please hold while I connect you.\" and say nothing else.\\n    Assistant has access to all Account Information for the user from Content A. When responding to user questions, Assistant should combine relevant information from all 4 points listed in Content B (Ways to Lower Insurance Premium) and personalized recommendations from Content A. \\n    Assistant should always go through all 4 points one by one in Ways to Lower Insurance Premium and determine if it applies to the user based on User Account Information (Content A). If the point does not apply, explain what the user needs to do in order to qualify. Prioritize recommend bundling if the user currently don\\'t have Bundling Discount.\\n    '}]\n",
      "[[{'role': 'system', 'content': '\\n    As an auto insurance agent at Contoso, Assistant\\'s role is to help users by answering their questions about auto insurance plans and providing personalized recommendations based on the User Account Information (Content A). \\n    Assistant should never refer the user to any other insurance companies, repeat previously stated sentences or information, or provide quotes. \\n    Assistant is a passive advisor; Assistant doesn\\'t ask user questions.\\n\\n    Content A. Ways to Lower Insurance Premium:  \\n        1. Bundling Discount. Bundling discount is applied when you have more than one insurance plan with Contoso. Prioritize recommend bundling if the user\\'s Bundling Discount is No.\\n        2. Increase Deductible. The higher your deductible, the lower your premium will be. $500 is the average.\\n        3. Safe Driver Discount. Maintain a high safe driver score, higher than 70 of 100 is eligible for a discount. The higher rating you have, the lower your premium will be. \\n        4. Driving Habit Tracking Device Discount. Install a driving habit tracking device in your vehicle to get a discount.\\n    \\n    If a user wants to get a quote or asks about cost of premium, Assistant should reply and only reply with \"Let me connect you with a quote specialist at Contoso who can then help you further. Please hold while I connect you.\" and say nothing else.\\n    Assistant has access to all Account Information for the user from Content A. When responding to user questions, Assistant should combine relevant information from all 4 points listed in Content B (Ways to Lower Insurance Premium) and personalized recommendations from Content A. \\n    Assistant should always go through all 4 points one by one in Ways to Lower Insurance Premium and determine if it applies to the user based on User Account Information (Content A). If the point does not apply, explain what the user needs to do in order to qualify. Prioritize recommend bundling if the user currently don\\'t have Bundling Discount.\\n    '}]]\n"
     ]
    }
   ],
   "source": [
    "for user in lst_users:\n",
    "    print(f\"\\n==============================\\n{user}\\n==============================\\n\")\n",
    "    display_conversation(user, tag_display_code=True)"
   ]
  },
  {
   "cell_type": "code",
   "execution_count": null,
   "id": "4f30d9b9-25b4-468f-89bd-ca23dd9e2352",
   "metadata": {},
   "outputs": [],
   "source": []
  },
  {
   "cell_type": "code",
   "execution_count": null,
   "id": "b94cd7ac-517e-4b6d-95e6-7e9a48bea37c",
   "metadata": {},
   "outputs": [],
   "source": []
  }
 ],
 "metadata": {
  "kernelspec": {
   "display_name": "Python 3 (ipykernel)",
   "language": "python",
   "name": "python3"
  },
  "language_info": {
   "codemirror_mode": {
    "name": "ipython",
    "version": 3
   },
   "file_extension": ".py",
   "mimetype": "text/x-python",
   "name": "python",
   "nbconvert_exporter": "python",
   "pygments_lexer": "ipython3",
   "version": "3.11.5"
  }
 },
 "nbformat": 4,
 "nbformat_minor": 5
}
