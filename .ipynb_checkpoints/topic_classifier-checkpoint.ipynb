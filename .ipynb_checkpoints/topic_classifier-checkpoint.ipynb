{
 "cells": [
  {
   "cell_type": "markdown",
   "id": "b04e0302-644b-4612-b7ed-55f5ee392431",
   "metadata": {
    "jp-MarkdownHeadingCollapsed": true,
    "tags": []
   },
   "source": [
    "### Building a Topic Classifier using Azure OpenAI GPT\n",
    "\n",
    "### Problem description\n",
    "    The task at hand involves constructing a topic classifier to categorize user questions into different topics. This classifier serves as a precursor in the workflow, preceding several ChatGPT chatbots, each addressing questions on specific topics.\n",
    "    \n",
    "### Background\n",
    "    The chatbot is intended for use by Whitley Newman, an insurance company offering a range of services, including auto, property, life, and policy operations. The classifier is designed to sort user queries into 11 distinct topics:\n",
    "\n",
    "    The six topics are:       \n",
    "        1 'auto insurance premium',\n",
    "        2 'billing and payments',\n",
    "        3 'claims processing',\n",
    "        4 'continued conversation',\n",
    "        5 'coverage options',\n",
    "        6 'end conversation',\n",
    "        7 'irrelevant of insurance',\n",
    "        8 'property insurance'\n",
    "\n",
    "### Data\n",
    "    The dataset used for training the topic classifier is synthetically generated through multiple GPT API calls. It comprises 145 question and answers, covering the eight topics mentioned above. Each row contains a single exchange of questions and answers between a customer and an agent, with the topic labeled accordingly.\n",
    "\n",
    "### Evaluation Metrics\n",
    "    The topic classifier demonstrates satisfactory performance on the synthetic dataset, with evaluation metrics reported as follows:\n",
    "    Weighted accuracy, precision, and the recall using GPT 3.5.\n",
    "\n",
    "### Deployment Considerations:\n",
    "    While the classifier performs good enought on real and synthetic data, it's essential to evaluate its performance on real-world business classification problems. Deployment decisions should factor in both model performance and cost considerations, selecting the best model for operational use based on these factors\n",
    "\n"
   ]
  },
  {
   "cell_type": "markdown",
   "id": "c6370102-9c4b-4391-b300-c360871b8c4e",
   "metadata": {},
   "source": [
    "# set up"
   ]
  },
  {
   "cell_type": "code",
   "execution_count": 41,
   "id": "8e9e3042-49dd-4878-b341-c720a8d68820",
   "metadata": {
    "tags": []
   },
   "outputs": [],
   "source": [
    "#pip install -r requirements.txt\n",
    "import json\n",
    "import jsonlines\n",
    "import logging\n",
    "logging.basicConfig(filename='ctc.log', encoding='utf-8', level=logging.DEBUG)\n",
    "logger = logging.getLogger('ftpuploader')\n",
    "import numpy as np\n",
    "import matplotlib.pyplot as plt\n",
    "import os\n",
    "from openai import AzureOpenAI\n",
    "import pandas as pd\n",
    "import re\n",
    "import seaborn as sns\n",
    "import sys\n",
    "import time\n",
    "import yaml\n",
    "\n",
    "from datetime import date, datetime\n",
    "from pathlib import Path\n",
    "from sklearn.linear_model import LogisticRegression\n",
    "from sklearn.metrics import classification_report, confusion_matrix, ConfusionMatrixDisplay\n",
    "\n",
    "pd.set_option('display.max_colwidth', None)\n",
    "pd.set_option('display.max_columns', None)"
   ]
  },
  {
   "cell_type": "code",
   "execution_count": 42,
   "id": "9d44367f-b77b-493a-86b0-0a608500d06b",
   "metadata": {
    "tags": []
   },
   "outputs": [],
   "source": [
    "# Load config values\n",
    "with open(r'config.json') as config_file:\n",
    "    config_details = json.load(config_file)\n",
    "\n",
    "#chatgpt_model_name = config_details['CHATGPT_MODEL']\n",
    "#openai.api_type = \"azure\"\n",
    "#openai.api_key = config_details['OPENAI_API_KEY']\n",
    "#openai.api_base = config_details['OPENAI_API_BASE']\n",
    "#openai.api_version = config_details['OPENAI_API_VERSION']"
   ]
  },
  {
   "cell_type": "markdown",
   "id": "c60b577a-f6b8-4929-b198-220f6c04872b",
   "metadata": {},
   "source": [
    "# loading the data"
   ]
  },
  {
   "cell_type": "code",
   "execution_count": 43,
   "id": "0da99356-3360-434e-adb8-e4bd6e692f70",
   "metadata": {
    "tags": []
   },
   "outputs": [],
   "source": [
    "#dataset COLLECTED\n",
    "df_raw = pd.read_csv(\"synthetic_data_topic_classifier.csv\")"
   ]
  },
  {
   "cell_type": "code",
   "execution_count": 44,
   "id": "cfb28468-456c-4d69-8b9a-2d9bbf58a684",
   "metadata": {
    "tags": []
   },
   "outputs": [
    {
     "name": "stdout",
     "output_type": "stream",
     "text": [
      "<class 'pandas.core.frame.DataFrame'>\n",
      "RangeIndex: 145 entries, 0 to 144\n",
      "Data columns (total 4 columns):\n",
      " #   Column             Non-Null Count  Dtype \n",
      "---  ------             --------------  ----- \n",
      " 0   QnA                145 non-null    object\n",
      " 1   topic              145 non-null    object\n",
      " 2   customer_question  68 non-null     object\n",
      " 3   agent_reply        145 non-null    object\n",
      "dtypes: object(4)\n",
      "memory usage: 4.7+ KB\n"
     ]
    }
   ],
   "source": [
    "df_raw.info()"
   ]
  },
  {
   "cell_type": "code",
   "execution_count": 45,
   "id": "e8a23482-933c-430d-a4d8-93317299f762",
   "metadata": {
    "tags": []
   },
   "outputs": [
    {
     "data": {
      "text/html": [
       "<div>\n",
       "<style scoped>\n",
       "    .dataframe tbody tr th:only-of-type {\n",
       "        vertical-align: middle;\n",
       "    }\n",
       "\n",
       "    .dataframe tbody tr th {\n",
       "        vertical-align: top;\n",
       "    }\n",
       "\n",
       "    .dataframe thead th {\n",
       "        text-align: right;\n",
       "    }\n",
       "</style>\n",
       "<table border=\"1\" class=\"dataframe\">\n",
       "  <thead>\n",
       "    <tr style=\"text-align: right;\">\n",
       "      <th></th>\n",
       "      <th>QnA</th>\n",
       "      <th>topic</th>\n",
       "      <th>customer_question</th>\n",
       "      <th>agent_reply</th>\n",
       "    </tr>\n",
       "  </thead>\n",
       "  <tbody>\n",
       "    <tr>\n",
       "      <th>127</th>\n",
       "      <td>Is there coverage available for damage caused by sewer backups or sump pump failures?</td>\n",
       "      <td>coverage options</td>\n",
       "      <td>NaN</td>\n",
       "      <td>Yes, coverage for damage from sewer backups or sump pump failures may be available as an endorsement or separate policy; contact us to discuss your coverage needs.</td>\n",
       "    </tr>\n",
       "  </tbody>\n",
       "</table>\n",
       "</div>"
      ],
      "text/plain": [
       "                                                                                       QnA  \\\n",
       "127  Is there coverage available for damage caused by sewer backups or sump pump failures?   \n",
       "\n",
       "                topic customer_question  \\\n",
       "127  coverage options               NaN   \n",
       "\n",
       "                                                                                                                                                             agent_reply  \n",
       "127  Yes, coverage for damage from sewer backups or sump pump failures may be available as an endorsement or separate policy; contact us to discuss your coverage needs.  "
      ]
     },
     "execution_count": 45,
     "metadata": {},
     "output_type": "execute_result"
    }
   ],
   "source": [
    "df_raw.sample()"
   ]
  },
  {
   "cell_type": "markdown",
   "id": "bbb8a662-6490-4774-a701-6ff44798b207",
   "metadata": {},
   "source": [
    "# Cleaning data and EDA"
   ]
  },
  {
   "cell_type": "code",
   "execution_count": 46,
   "id": "dc83796d-4570-429c-9f8d-471e6e211f4f",
   "metadata": {
    "tags": []
   },
   "outputs": [
    {
     "data": {
      "text/plain": [
       "{'auto insurance premium',\n",
       " 'billing and payments',\n",
       " 'claims processing',\n",
       " 'continued conversation',\n",
       " 'coverage options',\n",
       " 'end conversation',\n",
       " 'irrelevant of insurance',\n",
       " 'property insurance'}"
      ]
     },
     "execution_count": 46,
     "metadata": {},
     "output_type": "execute_result"
    }
   ],
   "source": [
    "#Read all topics for easy reading and creating map\n",
    "set_topics = set()\n",
    "\n",
    "for grouped_types in df_raw.topic.unique():\n",
    "    for ea_type in grouped_types.split(','):\n",
    "        set_topics.add(ea_type.strip(\" ''[]\"))\n",
    "\n",
    "set_topics"
   ]
  },
  {
   "cell_type": "code",
   "execution_count": 47,
   "id": "c70be7e1-c6eb-4177-8fdc-16fa53aaa9ff",
   "metadata": {
    "tags": []
   },
   "outputs": [],
   "source": [
    "# creating a map with each topic name strings base on the gathered dataset\n",
    "map_t_n =  {'auto insurance premium': 1,\n",
    "         'billing and payments': 2,\n",
    "         'claims processing': 3,\n",
    "         'continued conversation': 4,\n",
    "         'coverage options': 5,\n",
    "         'end conversation': 6,\n",
    "         'irrelevant of insurance': 7,\n",
    "         'property insurance': 8}"
   ]
  },
  {
   "cell_type": "code",
   "execution_count": 48,
   "id": "8cc3dc9f-c0c7-4c59-a06e-a192e20be7d1",
   "metadata": {
    "tags": []
   },
   "outputs": [],
   "source": [
    "df_raw['choice'] = df_raw.topic.apply(lambda x: map_t_n[x])"
   ]
  },
  {
   "cell_type": "code",
   "execution_count": 49,
   "id": "2b96deb1-b088-4c4d-a5df-2350bc3fe0c7",
   "metadata": {
    "tags": []
   },
   "outputs": [],
   "source": [
    "df_raw['completion'] = df_raw.choice.apply(lambda x: ' ' + str(x) + ' END')"
   ]
  },
  {
   "cell_type": "code",
   "execution_count": 50,
   "id": "346ec43d-6599-4672-ad0c-56f05d882489",
   "metadata": {
    "tags": []
   },
   "outputs": [
    {
     "data": {
      "text/html": [
       "<div>\n",
       "<style scoped>\n",
       "    .dataframe tbody tr th:only-of-type {\n",
       "        vertical-align: middle;\n",
       "    }\n",
       "\n",
       "    .dataframe tbody tr th {\n",
       "        vertical-align: top;\n",
       "    }\n",
       "\n",
       "    .dataframe thead th {\n",
       "        text-align: right;\n",
       "    }\n",
       "</style>\n",
       "<table border=\"1\" class=\"dataframe\">\n",
       "  <thead>\n",
       "    <tr style=\"text-align: right;\">\n",
       "      <th></th>\n",
       "      <th>QnA</th>\n",
       "      <th>topic</th>\n",
       "      <th>customer_question</th>\n",
       "      <th>agent_reply</th>\n",
       "      <th>choice</th>\n",
       "      <th>completion</th>\n",
       "    </tr>\n",
       "  </thead>\n",
       "  <tbody>\n",
       "    <tr>\n",
       "      <th>0</th>\n",
       "      <td>How are auto insurance premiums calculated?\\nAuto insurance premiums are calculated based on a variety of factors, including the make and model of your car, your driving record, and the amount of coverage you choose.</td>\n",
       "      <td>auto insurance premium</td>\n",
       "      <td>How are auto insurance premiums calculated?</td>\n",
       "      <td>Auto insurance premiums are calculated based on a variety of factors, including the make and model of your car, your driving record, and the amount of coverage you choose.</td>\n",
       "      <td>1</td>\n",
       "      <td>1 END</td>\n",
       "    </tr>\n",
       "    <tr>\n",
       "      <th>1</th>\n",
       "      <td>How can I save money on my auto insurance premiums?\\nThere are a number of ways to save money on your auto insurance premiums, including raising your deductible, choosing a higher coverage limit, and bundling your auto insurance with other policies.</td>\n",
       "      <td>auto insurance premium</td>\n",
       "      <td>How can I save money on my auto insurance premiums?</td>\n",
       "      <td>There are a number of ways to save money on your auto insurance premiums, including raising your deductible, choosing a higher coverage limit, and bundling your auto insurance with other policies.</td>\n",
       "      <td>1</td>\n",
       "      <td>1 END</td>\n",
       "    </tr>\n",
       "    <tr>\n",
       "      <th>2</th>\n",
       "      <td>How do I know if I need to purchase auto insurance?\\nIf you drive a car in the United States, you are required by law to have auto insurance.</td>\n",
       "      <td>auto insurance premium</td>\n",
       "      <td>How do I know if I need to purchase auto insurance?</td>\n",
       "      <td>If you drive a car in the United States, you are required by law to have auto insurance.</td>\n",
       "      <td>1</td>\n",
       "      <td>1 END</td>\n",
       "    </tr>\n",
       "    <tr>\n",
       "      <th>3</th>\n",
       "      <td>What factors affect my auto insurance premiums?\\nThe make and model of your car, your driving record, and the amount of coverage you choose all affect your auto insurance premiums.</td>\n",
       "      <td>auto insurance premium</td>\n",
       "      <td>What factors affect my auto insurance premiums?</td>\n",
       "      <td>The make and model of your car, your driving record, and the amount of coverage you choose all affect your auto insurance premiums.</td>\n",
       "      <td>1</td>\n",
       "      <td>1 END</td>\n",
       "    </tr>\n",
       "    <tr>\n",
       "      <th>4</th>\n",
       "      <td>What is the minimum amount of auto insurance coverage I am required to have?\\nThe minimum amount of auto insurance coverage you are required to have varies by state, but is typically between $25,000 and $50,000 per person and $50,000 and $100,000 per accident.</td>\n",
       "      <td>auto insurance premium</td>\n",
       "      <td>What is the minimum amount of auto insurance coverage I am required to have?</td>\n",
       "      <td>The minimum amount of auto insurance coverage you are required to have varies by state, but is typically between $25,000 and $50,000 per person and $50,000 and $100,000 per accident.</td>\n",
       "      <td>1</td>\n",
       "      <td>1 END</td>\n",
       "    </tr>\n",
       "  </tbody>\n",
       "</table>\n",
       "</div>"
      ],
      "text/plain": [
       "                                                                                                                                                                                                                                                                    QnA  \\\n",
       "0                                              How are auto insurance premiums calculated?\\nAuto insurance premiums are calculated based on a variety of factors, including the make and model of your car, your driving record, and the amount of coverage you choose.   \n",
       "1             How can I save money on my auto insurance premiums?\\nThere are a number of ways to save money on your auto insurance premiums, including raising your deductible, choosing a higher coverage limit, and bundling your auto insurance with other policies.   \n",
       "2                                                                                                                         How do I know if I need to purchase auto insurance?\\nIf you drive a car in the United States, you are required by law to have auto insurance.   \n",
       "3                                                                                  What factors affect my auto insurance premiums?\\nThe make and model of your car, your driving record, and the amount of coverage you choose all affect your auto insurance premiums.   \n",
       "4  What is the minimum amount of auto insurance coverage I am required to have?\\nThe minimum amount of auto insurance coverage you are required to have varies by state, but is typically between $25,000 and $50,000 per person and $50,000 and $100,000 per accident.   \n",
       "\n",
       "                    topic  \\\n",
       "0  auto insurance premium   \n",
       "1  auto insurance premium   \n",
       "2  auto insurance premium   \n",
       "3  auto insurance premium   \n",
       "4  auto insurance premium   \n",
       "\n",
       "                                                              customer_question  \\\n",
       "0                                   How are auto insurance premiums calculated?   \n",
       "1                           How can I save money on my auto insurance premiums?   \n",
       "2                           How do I know if I need to purchase auto insurance?   \n",
       "3                               What factors affect my auto insurance premiums?   \n",
       "4  What is the minimum amount of auto insurance coverage I am required to have?   \n",
       "\n",
       "                                                                                                                                                                                            agent_reply  \\\n",
       "0                           Auto insurance premiums are calculated based on a variety of factors, including the make and model of your car, your driving record, and the amount of coverage you choose.   \n",
       "1  There are a number of ways to save money on your auto insurance premiums, including raising your deductible, choosing a higher coverage limit, and bundling your auto insurance with other policies.   \n",
       "2                                                                                                              If you drive a car in the United States, you are required by law to have auto insurance.   \n",
       "3                                                                   The make and model of your car, your driving record, and the amount of coverage you choose all affect your auto insurance premiums.   \n",
       "4                The minimum amount of auto insurance coverage you are required to have varies by state, but is typically between $25,000 and $50,000 per person and $50,000 and $100,000 per accident.   \n",
       "\n",
       "   choice completion  \n",
       "0       1      1 END  \n",
       "1       1      1 END  \n",
       "2       1      1 END  \n",
       "3       1      1 END  \n",
       "4       1      1 END  "
      ]
     },
     "execution_count": 50,
     "metadata": {},
     "output_type": "execute_result"
    }
   ],
   "source": [
    "df_raw.head()"
   ]
  },
  {
   "cell_type": "code",
   "execution_count": 51,
   "id": "1dbb6daf-2db7-4ddd-8c46-eb9296790a5f",
   "metadata": {
    "tags": []
   },
   "outputs": [
    {
     "data": {
      "image/png": "[encoded data removed]",
      "text/plain": [
       "<Figure size 640x480 with 1 Axes>"
      ]
     },
     "metadata": {},
     "output_type": "display_data"
    },
    {
     "data": {
      "image/png": "[encoded data removed]",
      "text/plain": [
       "<Figure size 640x480 with 1 Axes>"
      ]
     },
     "metadata": {},
     "output_type": "display_data"
    },
    {
     "data": {
      "image/png": "[encoded data removed]",
      "text/plain": [
       "<Figure size 640x480 with 1 Axes>"
      ]
     },
     "metadata": {},
     "output_type": "display_data"
    }
   ],
   "source": [
    "for col in df_raw.columns:\n",
    "    if col in ['QnA', 'customer_question', 'agent_reply'] or df_raw[col].isnull().all():\n",
    "        continue\n",
    "    plt.figure()\n",
    "    df_raw[col].value_counts().plot.bar()\n",
    "    pct_null = np.round(df_raw[col].isnull().sum() / df_raw.shape[0] * 100, 1)\n",
    "    plt.title(f'{col}: {df_raw[col].astype(str).transform(tuple).nunique()} categories \\n {pct_null} % of null')"
   ]
  },
  {
   "cell_type": "markdown",
   "id": "beeb7afd-17ec-4d97-9ae4-4340c6d11f36",
   "metadata": {},
   "source": [
    "# pre-processing"
   ]
  },
  {
   "cell_type": "code",
   "execution_count": 52,
   "id": "9ff38977-7a60-4c54-ac10-af720e93ccf1",
   "metadata": {
    "tags": []
   },
   "outputs": [],
   "source": [
    "def pre_processing(df, prompt_content, output_path, tag_few_shot=False):\n",
    "    '''\n",
    "    Recreating the prompt or question base on the topic to ask to the MODEL \n",
    "    Then save as json pre-processed \n",
    "    '''\n",
    "\n",
    "    df_raw = df.copy()\n",
    "    df_raw['prompt_original'] = df_raw.customer_question\n",
    "    \n",
    "    if tag_few_shot:\n",
    "        df_raw['prompt'] = (prompt_content + 'Customer question: '+ df_raw.customer_question +'\\nClassified topic: '\n",
    "                           )\n",
    "    else:\n",
    "        df_raw['prompt'] = (f\"Insurer's question:\\n\" + df_raw.customer_question\n",
    "                    + '\\n' + prompt_content)\n",
    "\n",
    "    df_sample = df_raw.copy()\n",
    "    df_sample.to_csv(f'{output_path}.csv')\n",
    "    \n",
    "    save_path = f'{output_path}.jsonl'\n",
    "    df_sample.to_json(save_path, orient='records', lines=True)\n",
    "    \n",
    "    print(df_sample.info())\n",
    "    print(f'data saved at {save_path}')\n",
    "    print('----show a sample prompt for check----')\n",
    "    print(df_sample.prompt.iloc[0])\n",
    "    \n",
    "    return df_sample, save_path"
   ]
  },
  {
   "cell_type": "code",
   "execution_count": 53,
   "id": "4b501a74-933c-4cd0-b5ae-5655bf93e405",
   "metadata": {
    "tags": []
   },
   "outputs": [
    {
     "name": "stdout",
     "output_type": "stream",
     "text": [
      "1 'auto insurance premium'\n",
      "2 'billing and payments'\n",
      "3 'claims processing'\n",
      "4 'continued conversation'\n",
      "5 'coverage options'\n",
      "6 'end conversation'\n",
      "7 'irrelevant of insurance'\n",
      "8 'property insurance'\n"
     ]
    }
   ],
   "source": [
    "for pair in map_t_n.items():\n",
    "    print(f\"{pair[1]} '{pair[0]}'\")\n"
   ]
  },
  {
   "cell_type": "markdown",
   "id": "70288c01-9a0a-4d23-aaf5-9a2b087a38ac",
   "metadata": {
    "tags": []
   },
   "source": [
    "# batch prediction\n"
   ]
  },
  {
   "cell_type": "code",
   "execution_count": 54,
   "id": "91d22b53-f1e9-4924-93f3-32d197066783",
   "metadata": {
    "tags": []
   },
   "outputs": [],
   "source": [
    "def stage_examples_for_prediction(input_json_address):\n",
    "    '''Preparing the test data for inferencing'''\n",
    "    example_list = []\n",
    "    with jsonlines.open(input_json_address) as reader:\n",
    "        for obj in reader:\n",
    "            example_list.append(obj)\n",
    "    return example_list"
   ]
  },
  {
   "cell_type": "code",
   "execution_count": 62,
   "id": "c3a09661-2e5f-40d2-b422-233c0a5a2e1f",
   "metadata": {
    "tags": []
   },
   "outputs": [],
   "source": [
    "prompt_zero_shot = '''\n",
    "\n",
    "Based on the customer question above, choose one choice below that best describe the question content. Classify between category 1 to 11.\n",
    "Make choices based on provided facts, don't imply nor make up stuff.\n",
    "\n",
    "Detailed Guidelines for how to choose:\n",
    "    choose 1 if the question is about auto insurance premium.\n",
    "    choose 2 if the question is about billing and payments.\n",
    "    choose 3 if the question is about claims processing.\n",
    "    choose 4 if the question is just a continuation of previous question.\n",
    "    choose 5 if the question is about coverage options.\n",
    "    choose 6 if the question is just the end conversation.\n",
    "    choose 7 if the question is irrelevant of insurance.\n",
    "    choose 8 if the question is about property insurance.    \n",
    "Choose one correct number: \n",
    "'''"
   ]
  },
  {
   "cell_type": "code",
   "execution_count": 63,
   "id": "fa4eb437-1983-4236-a537-23c6279f98a5",
   "metadata": {
    "tags": []
   },
   "outputs": [
    {
     "name": "stdout",
     "output_type": "stream",
     "text": [
      "<class 'pandas.core.frame.DataFrame'>\n",
      "RangeIndex: 145 entries, 0 to 144\n",
      "Data columns (total 8 columns):\n",
      " #   Column             Non-Null Count  Dtype \n",
      "---  ------             --------------  ----- \n",
      " 0   QnA                145 non-null    object\n",
      " 1   topic              145 non-null    object\n",
      " 2   customer_question  68 non-null     object\n",
      " 3   agent_reply        145 non-null    object\n",
      " 4   choice             145 non-null    int64 \n",
      " 5   completion         145 non-null    object\n",
      " 6   prompt_original    68 non-null     object\n",
      " 7   prompt             68 non-null     object\n",
      "dtypes: int64(1), object(7)\n",
      "memory usage: 9.2+ KB\n",
      "None\n",
      "data saved at prompt_zero_shot.jsonl\n",
      "----show a sample prompt for visual check----\n",
      "Insurer's question:\n",
      "How are auto insurance premiums calculated?\n",
      "\n",
      "\n",
      "Based on the customer question above, choose one choice below that best describe the question content. Classify between category 1 to 11.\n",
      "Make choices based on provided facts, don't imply nor make up stuff.\n",
      "\n",
      "Detailed Guidelines for how to choose:\n",
      "    choose 1 if the question is about auto insurance premium.\n",
      "    choose 2 if the question is about billing and payments.\n",
      "    choose 3 if the question is about claims processing.\n",
      "    choose 4 if the question is just a continuation of previous question.\n",
      "    choose 5 if the question is about coverage options.\n",
      "    choose 6 if the question is just the end conversation.\n",
      "    choose 7 if the question is irrelevant of insurance.\n",
      "    choose 8 if the question is about property insurance.    \n",
      "Choose one correct number: \n",
      "\n"
     ]
    }
   ],
   "source": [
    "df, file_path_zero_shot = pre_processing(df_raw, prompt_zero_shot, output_path='prompt_zero_shot')"
   ]
  },
  {
   "cell_type": "code",
   "execution_count": null,
   "id": "b5f7a60f-2647-45ca-a594-4f1473b2b88e",
   "metadata": {
    "tags": []
   },
   "outputs": [
    {
     "name": "stdout",
     "output_type": "stream",
     "text": [
      "gpt-35-turbo-16k prompt_zero_shot.jsonl\n",
      "1\n",
      "2\n",
      "3\n",
      "5\n",
      "7\n",
      "11\n",
      "12\n"
     ]
    }
   ],
   "source": [
    "import random\n",
    "classifier_model = 'gpt-35-turbo-16k' # model = \"WNChatbotDevelopment\" text-embedding-3-large text-embedding-ada-002 gpt-35-turbo gpt-35-turbo-instruct\n",
    "classifier_path = file_path_zero_shot\n",
    "print(classifier_model, classifier_path)\n",
    "\n",
    "MODEL_NAME=classifier_model\n",
    "data_path = classifier_path\n",
    "col_interest='completion'\n",
    "\n",
    "input_json_address = data_path\n",
    "\n",
    "example_list = []\n",
    "example_list_C = []\n",
    "example_list_Class = []\n",
    "\n",
    "#with jsonlines.open(input_json_address) as reader:\n",
    "#    for obj in reader:\n",
    "#        example_list.append(obj['prompt'])\n",
    "#        example_list_C.append(obj['choice'])\n",
    "#        example_list_Class.append(obj['topic'])\n",
    "\n",
    "#Load the data from the JSON file\n",
    "with jsonlines.open(input_json_address) as reader:\n",
    "    data = list(reader)  # Convert the reader to a list\n",
    "\n",
    "#Shuffle the data to randomize the order\n",
    "random.shuffle(data)\n",
    "\n",
    "#Select the first 20 examples\n",
    "for obj in data[:20]:\n",
    "    example_list.append(obj['prompt'])\n",
    "    example_list_C.append(obj['choice'])\n",
    "    example_list_Class.append(obj['topic'])\n",
    "    \n",
    "\n",
    "\n",
    "with open(r'config.json') as config_file:\n",
    "    config_details = json.load(config_file)\n",
    "\n",
    "classifier_model = config_details['CHATGPT_MODEL']\n",
    "        \n",
    "        \n",
    "client = AzureOpenAI(\n",
    "  azure_endpoint = config_details['OPENAI_API_BASE'], \n",
    "  api_key=config_details['OPENAI_API_KEY'],  \n",
    "  api_version=config_details['OPENAI_API_VERSION']\n",
    ")\n",
    "\n",
    "response_list = []\n",
    "\n",
    "for item in example_list:\n",
    "    try:    \n",
    "        messages = []\n",
    "        #messages.append({\"role\": \"user\", \"content\": example_list[1]})\n",
    "        messages.append({\"role\": \"user\", \"content\": item})\n",
    "\n",
    "        response = client.chat.completions.create(\n",
    "          model=classifier_model, # model = \"WNChatbotDevelopment\" text-embedding-3-large text-embedding-ada-002 gpt-35-turbo gpt-35-turbo-instruct\n",
    "          messages = messages,\n",
    "          temperature=0,\n",
    "          max_tokens=800,\n",
    "          top_p=0.95,\n",
    "          frequency_penalty=0.0,\n",
    "          presence_penalty=0.0,\n",
    "          stop='END',\n",
    "        )\n",
    "\n",
    "        content = response.choices[0].message.content\n",
    "        response_list.append(content)\n",
    "        print(len(response_list))\n",
    "    except BaseException as e:\n",
    "        logger.exception('failure when calling API')\n",
    "        response_list.append(0) \n",
    "    \n",
    "y_pred = response_list  \n",
    "\n",
    "df_evaluate = pd.DataFrame()\n",
    "df_evaluate['prompt'] = example_list\n",
    "df_evaluate['pred'] = y_pred\n",
    "df_evaluate['completion'] = example_list_C\n",
    "df_evaluate['Class'] = example_list_Class\n",
    "\n",
    "             \n",
    "df_evaluate.head()\n"
   ]
  },
  {
   "cell_type": "markdown",
   "id": "2bf9d3a8-334b-432b-a547-bbeb23efcc45",
   "metadata": {},
   "source": [
    "# metric"
   ]
  },
  {
   "cell_type": "markdown",
   "id": "f2cd9dcf-dcc9-45c9-8df6-38673f71fac8",
   "metadata": {},
   "source": [
    "### confusion matrix"
   ]
  },
  {
   "cell_type": "code",
   "execution_count": null,
   "id": "24cf1a05-5125-462d-bdb1-d4820435c9d1",
   "metadata": {
    "tags": []
   },
   "outputs": [],
   "source": [
    "def eval_classification(df, col_GT, col_pred):\n",
    "    '''\n",
    "    display classificatione evaluation metrics and confusion matrix\n",
    "    '''\n",
    "    df = df.copy()\n",
    "    y_true = df[col_GT].astype(str)\n",
    "    y_pred = df[col_pred].astype(str)\n",
    "    labels = sorted(set(y_true.unique()).union(set(y_pred.unique())))\n",
    "    \n",
    "    cf_matrix = confusion_matrix(y_true, y_pred)\n",
    "    # display(cf_matrix)\n",
    "    \n",
    "    fig, ax = plt.subplots(1, figsize=(10,10))\n",
    "    cm_display = ConfusionMatrixDisplay(confusion_matrix=cf_matrix, \n",
    "                                        display_labels=labels\n",
    "                                       )\n",
    "    \n",
    "    cm_display.plot(ax=ax, xticks_rotation='vertical')\n",
    "    print(classification_report(y_true, y_pred, zero_division=1))\n",
    "    \n",
    "    return None"
   ]
  },
  {
   "cell_type": "markdown",
   "id": "e72eaa4b-c565-49d7-92c2-2c8b96360beb",
   "metadata": {},
   "source": [
    "# result display"
   ]
  },
  {
   "cell_type": "code",
   "execution_count": null,
   "id": "677d9954-9308-46ae-a222-dcc967b92c98",
   "metadata": {
    "tags": []
   },
   "outputs": [],
   "source": [
    "#post processing and evaluation.\n",
    "\n",
    "df_evaluate_reasons = pd.DataFrame()\n",
    "\n",
    "df_evaluate_reasons['ground_truth'] = df_evaluate['completion']\n",
    "df_evaluate_reasons['pred'] = df_evaluate['pred']\n",
    "df_evaluate_reasons['pred_class'] = df_evaluate['Class']\n",
    "df_evaluate_reasons.to_csv('evaluate_incident_type_plain_choice.csv')\n",
    "\n",
    "display(df_evaluate_reasons.pred_class.value_counts().sort_index())\n",
    "display(df_evaluate_reasons.ground_truth.value_counts().sort_index())\n",
    "\n",
    "\n",
    "plt.figure()\n",
    "df_evaluate_reasons.pred_class.value_counts().sort_index().plot.bar()\n",
    "plt.title(f'predicted, number of classes {df_evaluate_reasons.pred_class.transform(tuple).nunique()}')\n",
    "\n",
    "plt.figure()\n",
    "df_evaluate_reasons.ground_truth.value_counts().sort_index().plot.bar()\n",
    "plt.title(f'ground_truth, number of classes {df_evaluate_reasons.pred_class.transform(tuple).nunique()}')\n",
    "    "
   ]
  },
  {
   "cell_type": "code",
   "execution_count": null,
   "id": "bc30eb91-d751-402c-9a1c-c5bf5f85fb7b",
   "metadata": {
    "tags": []
   },
   "outputs": [],
   "source": [
    "eval_classification(df_evaluate_reasons, 'ground_truth', 'pred')"
   ]
  },
  {
   "cell_type": "code",
   "execution_count": null,
   "id": "3d4b0ca8-592d-4444-b790-6bad4b3eab55",
   "metadata": {},
   "outputs": [],
   "source": []
  }
 ],
 "metadata": {
  "kernelspec": {
   "display_name": "Python 3 (ipykernel)",
   "language": "python",
   "name": "python3"
  },
  "language_info": {
   "codemirror_mode": {
    "name": "ipython",
    "version": 3
   },
   "file_extension": ".py",
   "mimetype": "text/x-python",
   "name": "python",
   "nbconvert_exporter": "python",
   "pygments_lexer": "ipython3",
   "version": "3.11.5"
  }
 },
 "nbformat": 4,
 "nbformat_minor": 5
}
